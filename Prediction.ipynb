{
  "cells": [
    {
      "cell_type": "code",
      "execution_count": 141,
      "id": "e1338b5f",
      "metadata": {
        "id": "e1338b5f"
      },
      "outputs": [],
      "source": [
        "import pandas as pd\n",
        "import numpy as np\n",
        "from sklearn.model_selection import train_test_split\n",
        "from sklearn.svm import SVC\n",
        "from sklearn.metrics import accuracy_score\n",
        "import scipy\n",
        "from sklearn.preprocessing import StandardScaler\n",
        "from scipy import signal\n",
        "from scipy import fft\n",
        "from scipy.fft import fft, ifft, fftfreq\n",
        "import matplotlib\n",
        "import matplotlib. pyplot as plt\n",
        "from sklearn.preprocessing import RobustScaler\n"
      ]
    },
    {
      "cell_type": "code",
      "execution_count": 142,
      "id": "70b15a5e",
      "metadata": {
        "colab": {
          "base_uri": "https://localhost:8080/",
          "height": 423
        },
        "id": "70b15a5e",
        "outputId": "58d153c6-bf50-4aa2-942f-c914b6d27edf"
      },
      "outputs": [
        {
          "data": {
            "text/html": [
              "<div>\n",
              "<style scoped>\n",
              "    .dataframe tbody tr th:only-of-type {\n",
              "        vertical-align: middle;\n",
              "    }\n",
              "\n",
              "    .dataframe tbody tr th {\n",
              "        vertical-align: top;\n",
              "    }\n",
              "\n",
              "    .dataframe thead th {\n",
              "        text-align: right;\n",
              "    }\n",
              "</style>\n",
              "<table border=\"1\" class=\"dataframe\">\n",
              "  <thead>\n",
              "    <tr style=\"text-align: right;\">\n",
              "      <th></th>\n",
              "      <th>2024-11-03 23:05:50.643648</th>\n",
              "      <th>484</th>\n",
              "    </tr>\n",
              "  </thead>\n",
              "  <tbody>\n",
              "    <tr>\n",
              "      <th>0</th>\n",
              "      <td>2024-11-03 23:05:50.643818</td>\n",
              "      <td>473</td>\n",
              "    </tr>\n",
              "    <tr>\n",
              "      <th>1</th>\n",
              "      <td>2024-11-03 23:05:50.645314</td>\n",
              "      <td>477</td>\n",
              "    </tr>\n",
              "    <tr>\n",
              "      <th>2</th>\n",
              "      <td>2024-11-03 23:05:50.645376</td>\n",
              "      <td>486</td>\n",
              "    </tr>\n",
              "    <tr>\n",
              "      <th>3</th>\n",
              "      <td>2024-11-03 23:05:50.649459</td>\n",
              "      <td>489</td>\n",
              "    </tr>\n",
              "    <tr>\n",
              "      <th>4</th>\n",
              "      <td>2024-11-03 23:05:50.649542</td>\n",
              "      <td>501</td>\n",
              "    </tr>\n",
              "    <tr>\n",
              "      <th>...</th>\n",
              "      <td>...</td>\n",
              "      <td>...</td>\n",
              "    </tr>\n",
              "    <tr>\n",
              "      <th>915625</th>\n",
              "      <td>2024-11-03 23:42:45.814007</td>\n",
              "      <td>537</td>\n",
              "    </tr>\n",
              "    <tr>\n",
              "      <th>915626</th>\n",
              "      <td>2024-11-03 23:42:45.814245</td>\n",
              "      <td>17</td>\n",
              "    </tr>\n",
              "    <tr>\n",
              "      <th>915627</th>\n",
              "      <td>2024-11-03 23:42:45.819312</td>\n",
              "      <td>5</td>\n",
              "    </tr>\n",
              "    <tr>\n",
              "      <th>915628</th>\n",
              "      <td>2024-11-03 23:42:45.819439</td>\n",
              "      <td>232</td>\n",
              "    </tr>\n",
              "    <tr>\n",
              "      <th>915629</th>\n",
              "      <td>2024-11-03 23:42:45.822140</td>\n",
              "      <td>425</td>\n",
              "    </tr>\n",
              "  </tbody>\n",
              "</table>\n",
              "<p>915630 rows × 2 columns</p>\n",
              "</div>"
            ],
            "text/plain": [
              "        2024-11-03 23:05:50.643648  484\n",
              "0       2024-11-03 23:05:50.643818  473\n",
              "1       2024-11-03 23:05:50.645314  477\n",
              "2       2024-11-03 23:05:50.645376  486\n",
              "3       2024-11-03 23:05:50.649459  489\n",
              "4       2024-11-03 23:05:50.649542  501\n",
              "...                            ...  ...\n",
              "915625  2024-11-03 23:42:45.814007  537\n",
              "915626  2024-11-03 23:42:45.814245   17\n",
              "915627  2024-11-03 23:42:45.819312    5\n",
              "915628  2024-11-03 23:42:45.819439  232\n",
              "915629  2024-11-03 23:42:45.822140  425\n",
              "\n",
              "[915630 rows x 2 columns]"
            ]
          },
          "execution_count": 142,
          "metadata": {},
          "output_type": "execute_result"
        }
      ],
      "source": [
        "df = pd.read_csv('signal.csv') # change file name acc. to your file as \"('/content/\"Your_file_name.csv\")\"\n",
        "df"
      ]
    },
    {
      "cell_type": "markdown",
      "id": "2DFzzs7iUbtD",
      "metadata": {
        "id": "2DFzzs7iUbtD"
      },
      "source": [
        "# **Change the Labeling according to your data here **"
      ]
    },
    {
      "cell_type": "code",
      "execution_count": 143,
      "id": "7e3a29db",
      "metadata": {
        "id": "7e3a29db"
      },
      "outputs": [],
      "source": [
        "df.loc[:457815,'label'] = 0 # here we have half data point for relax and other half of attentive state\n",
        "df.loc[475816:,'label'] = 1"
      ]
    },
    {
      "cell_type": "code",
      "execution_count": 144,
      "id": "189f7b91",
      "metadata": {
        "colab": {
          "base_uri": "https://localhost:8080/"
        },
        "id": "189f7b91",
        "outputId": "11286a46-f514-4f1c-a08a-8080030b8167"
      },
      "outputs": [
        {
          "data": {
            "text/plain": [
              "2024-11-03 23:05:50.643648        0\n",
              "484                               0\n",
              "label                         18000\n",
              "dtype: int64"
            ]
          },
          "execution_count": 144,
          "metadata": {},
          "output_type": "execute_result"
        }
      ],
      "source": [
        "df.isnull().sum()"
      ]
    },
    {
      "cell_type": "code",
      "execution_count": 145,
      "id": "02c8847b",
      "metadata": {
        "id": "02c8847b"
      },
      "outputs": [],
      "source": [
        "df.drop(df.index[150000:310001], inplace=True)\n",
        "df.reset_index(drop=True, inplace=True)\n",
        "df.drop(df.index[600000:750000], inplace=True)\n",
        "#df = df.loc[600000:]\n",
        "df.reset_index(drop=True, inplace=True)\n"
      ]
    },
    {
      "cell_type": "code",
      "execution_count": 146,
      "id": "b0cdc770",
      "metadata": {
        "colab": {
          "base_uri": "https://localhost:8080/",
          "height": 423
        },
        "id": "b0cdc770",
        "outputId": "3f4c0a69-318f-4af2-b98f-35bdb954e484"
      },
      "outputs": [
        {
          "data": {
            "text/html": [
              "<div>\n",
              "<style scoped>\n",
              "    .dataframe tbody tr th:only-of-type {\n",
              "        vertical-align: middle;\n",
              "    }\n",
              "\n",
              "    .dataframe tbody tr th {\n",
              "        vertical-align: top;\n",
              "    }\n",
              "\n",
              "    .dataframe thead th {\n",
              "        text-align: right;\n",
              "    }\n",
              "</style>\n",
              "<table border=\"1\" class=\"dataframe\">\n",
              "  <thead>\n",
              "    <tr style=\"text-align: right;\">\n",
              "      <th></th>\n",
              "      <th>484</th>\n",
              "      <th>label</th>\n",
              "    </tr>\n",
              "  </thead>\n",
              "  <tbody>\n",
              "    <tr>\n",
              "      <th>0</th>\n",
              "      <td>473</td>\n",
              "      <td>0.0</td>\n",
              "    </tr>\n",
              "    <tr>\n",
              "      <th>1</th>\n",
              "      <td>477</td>\n",
              "      <td>0.0</td>\n",
              "    </tr>\n",
              "    <tr>\n",
              "      <th>2</th>\n",
              "      <td>486</td>\n",
              "      <td>0.0</td>\n",
              "    </tr>\n",
              "    <tr>\n",
              "      <th>3</th>\n",
              "      <td>489</td>\n",
              "      <td>0.0</td>\n",
              "    </tr>\n",
              "    <tr>\n",
              "      <th>4</th>\n",
              "      <td>501</td>\n",
              "      <td>0.0</td>\n",
              "    </tr>\n",
              "    <tr>\n",
              "      <th>...</th>\n",
              "      <td>...</td>\n",
              "      <td>...</td>\n",
              "    </tr>\n",
              "    <tr>\n",
              "      <th>605624</th>\n",
              "      <td>537</td>\n",
              "      <td>1.0</td>\n",
              "    </tr>\n",
              "    <tr>\n",
              "      <th>605625</th>\n",
              "      <td>17</td>\n",
              "      <td>1.0</td>\n",
              "    </tr>\n",
              "    <tr>\n",
              "      <th>605626</th>\n",
              "      <td>5</td>\n",
              "      <td>1.0</td>\n",
              "    </tr>\n",
              "    <tr>\n",
              "      <th>605627</th>\n",
              "      <td>232</td>\n",
              "      <td>1.0</td>\n",
              "    </tr>\n",
              "    <tr>\n",
              "      <th>605628</th>\n",
              "      <td>425</td>\n",
              "      <td>1.0</td>\n",
              "    </tr>\n",
              "  </tbody>\n",
              "</table>\n",
              "<p>605629 rows × 2 columns</p>\n",
              "</div>"
            ],
            "text/plain": [
              "        484  label\n",
              "0       473    0.0\n",
              "1       477    0.0\n",
              "2       486    0.0\n",
              "3       489    0.0\n",
              "4       501    0.0\n",
              "...     ...    ...\n",
              "605624  537    1.0\n",
              "605625   17    1.0\n",
              "605626    5    1.0\n",
              "605627  232    1.0\n",
              "605628  425    1.0\n",
              "\n",
              "[605629 rows x 2 columns]"
            ]
          },
          "execution_count": 146,
          "metadata": {},
          "output_type": "execute_result"
        }
      ],
      "source": [
        "\n",
        "df.drop(columns=df.columns[0], axis=1, inplace=True)\n",
        "df"
      ]
    },
    {
      "cell_type": "code",
      "execution_count": 147,
      "id": "AZ0zwR5La5_q",
      "metadata": {
        "colab": {
          "base_uri": "https://localhost:8080/",
          "height": 423
        },
        "id": "AZ0zwR5La5_q",
        "outputId": "168eb369-0479-49e4-ef7a-71f5a66a5339"
      },
      "outputs": [
        {
          "data": {
            "text/html": [
              "<div>\n",
              "<style scoped>\n",
              "    .dataframe tbody tr th:only-of-type {\n",
              "        vertical-align: middle;\n",
              "    }\n",
              "\n",
              "    .dataframe tbody tr th {\n",
              "        vertical-align: top;\n",
              "    }\n",
              "\n",
              "    .dataframe thead th {\n",
              "        text-align: right;\n",
              "    }\n",
              "</style>\n",
              "<table border=\"1\" class=\"dataframe\">\n",
              "  <thead>\n",
              "    <tr style=\"text-align: right;\">\n",
              "      <th></th>\n",
              "      <th>raw_eeg</th>\n",
              "      <th>label</th>\n",
              "    </tr>\n",
              "  </thead>\n",
              "  <tbody>\n",
              "    <tr>\n",
              "      <th>0</th>\n",
              "      <td>473</td>\n",
              "      <td>0.0</td>\n",
              "    </tr>\n",
              "    <tr>\n",
              "      <th>1</th>\n",
              "      <td>477</td>\n",
              "      <td>0.0</td>\n",
              "    </tr>\n",
              "    <tr>\n",
              "      <th>2</th>\n",
              "      <td>486</td>\n",
              "      <td>0.0</td>\n",
              "    </tr>\n",
              "    <tr>\n",
              "      <th>3</th>\n",
              "      <td>489</td>\n",
              "      <td>0.0</td>\n",
              "    </tr>\n",
              "    <tr>\n",
              "      <th>4</th>\n",
              "      <td>501</td>\n",
              "      <td>0.0</td>\n",
              "    </tr>\n",
              "    <tr>\n",
              "      <th>...</th>\n",
              "      <td>...</td>\n",
              "      <td>...</td>\n",
              "    </tr>\n",
              "    <tr>\n",
              "      <th>605624</th>\n",
              "      <td>537</td>\n",
              "      <td>1.0</td>\n",
              "    </tr>\n",
              "    <tr>\n",
              "      <th>605625</th>\n",
              "      <td>17</td>\n",
              "      <td>1.0</td>\n",
              "    </tr>\n",
              "    <tr>\n",
              "      <th>605626</th>\n",
              "      <td>5</td>\n",
              "      <td>1.0</td>\n",
              "    </tr>\n",
              "    <tr>\n",
              "      <th>605627</th>\n",
              "      <td>232</td>\n",
              "      <td>1.0</td>\n",
              "    </tr>\n",
              "    <tr>\n",
              "      <th>605628</th>\n",
              "      <td>425</td>\n",
              "      <td>1.0</td>\n",
              "    </tr>\n",
              "  </tbody>\n",
              "</table>\n",
              "<p>605629 rows × 2 columns</p>\n",
              "</div>"
            ],
            "text/plain": [
              "        raw_eeg  label\n",
              "0           473    0.0\n",
              "1           477    0.0\n",
              "2           486    0.0\n",
              "3           489    0.0\n",
              "4           501    0.0\n",
              "...         ...    ...\n",
              "605624      537    1.0\n",
              "605625       17    1.0\n",
              "605626        5    1.0\n",
              "605627      232    1.0\n",
              "605628      425    1.0\n",
              "\n",
              "[605629 rows x 2 columns]"
            ]
          },
          "execution_count": 147,
          "metadata": {},
          "output_type": "execute_result"
        }
      ],
      "source": [
        "df.columns = ['raw_eeg', 'label']\n",
        "df"
      ]
    },
    {
      "cell_type": "code",
      "execution_count": 148,
      "id": "aaecb713",
      "metadata": {
        "id": "aaecb713"
      },
      "outputs": [],
      "source": [
        "data = df['raw_eeg']\n",
        "labels_old = df['label']\n",
        "\n",
        "\n",
        "\n",
        "sampling_rate = 512\n",
        "\n",
        "notch_freq = 50.0  # for the notch filter\n",
        "lowcut, highcut = 0.5, 30.0  # for the bandpass filter\n",
        "\n",
        "#  notch filter\n",
        "nyquist = (0.5 * sampling_rate)\n",
        "notch_freq_normalized = notch_freq / nyquist\n",
        "b_notch, a_notch = signal.iirnotch(notch_freq_normalized, Q=0.05, fs=sampling_rate)\n",
        "\n",
        "#  bandpass filter\n",
        "lowcut_normalized = lowcut / nyquist\n",
        "highcut_normalized = highcut / nyquist\n",
        "b_bandpass, a_bandpass = signal.butter(4, [lowcut_normalized, highcut_normalized], btype='band')\n",
        "\n",
        "features = []\n",
        "labels = []\n",
        "additional_features_list = []\n",
        "\n",
        "def calculate_psd_features(segment, sampling_rate):\n",
        "    f, psd_values = scipy.signal.welch(segment, fs=sampling_rate, nperseg=len(segment))\n",
        "\n",
        "    alpha_indices = np.where((f >= 8) & (f <= 13))\n",
        "    beta_indices = np.where((f >= 14) & (f <= 30))\n",
        "    theta_indices = np.where((f >= 4) & (f <= 7))\n",
        "    delta_indices = np.where((f >= 0.5) & (f <= 3))\n",
        "\n",
        "    energy_alpha = np.sum(psd_values[alpha_indices])\n",
        "    energy_beta = np.sum(psd_values[beta_indices])\n",
        "    energy_theta = np.sum(psd_values[theta_indices])\n",
        "    energy_delta = np.sum(psd_values[delta_indices])\n",
        "\n",
        "    # Calculate the alpha-beta ratio feature\n",
        "    alpha_beta_ratio = energy_alpha / energy_beta\n",
        "\n",
        "    return {\n",
        "        'E_alpha': energy_alpha,\n",
        "        'E_beta': energy_beta,\n",
        "        'E_theta': energy_theta,\n",
        "        'E_delta': energy_delta,\n",
        "        'alpha_beta_ratio': alpha_beta_ratio\n",
        "    }\n",
        "\n",
        "def calculate_additional_features(segment, sampling_rate):\n",
        "    f, psd = scipy.signal.welch(segment, fs=sampling_rate, nperseg=len(segment))\n",
        "\n",
        "    # Peak frequency\n",
        "    peak_frequency = f[np.argmax(psd)]\n",
        "\n",
        "    # Spectral centroid\n",
        "    spectral_centroid = np.sum(f * psd) / np.sum(psd)\n",
        "\n",
        "    # Spectral slope\n",
        "    log_f = np.log(f[1:])\n",
        "    log_psd = np.log(psd[1:])\n",
        "    spectral_slope = np.polyfit(log_f, log_psd, 1)[0]\n",
        "\n",
        "    return {\n",
        "        'peak_frequency': peak_frequency,\n",
        "        'spectral_centroid': spectral_centroid,\n",
        "        'spectral_slope': spectral_slope\n",
        "    }\n",
        "\n",
        "\n",
        "for i in range(0, len(data) - 512, 256):\n",
        "    segment = data.loc[i:i+512]\n",
        "    segment = pd.to_numeric(segment, errors='coerce')\n",
        "\n",
        "    #  notch filter\n",
        "    segment = signal.filtfilt(b_notch, a_notch, segment)\n",
        "\n",
        "    #  bandpass filter\n",
        "    segment = signal.filtfilt(b_bandpass, a_bandpass, segment)\n",
        "\n",
        "\n",
        "    segment_features = calculate_psd_features(segment,512)\n",
        "    additional_features = calculate_additional_features(segment, 512)\n",
        "\n",
        "    segment_features = {**segment_features, **additional_features}\n",
        "\n",
        "    features.append(segment_features)\n",
        "    labels.append(labels_old[i])\n",
        "\n",
        "X = np.array(features)\n",
        "y = np.array(labels)"
      ]
    },
    {
      "cell_type": "code",
      "execution_count": 149,
      "id": "sKnRQ-HLGBAQ",
      "metadata": {
        "colab": {
          "base_uri": "https://localhost:8080/"
        },
        "id": "sKnRQ-HLGBAQ",
        "outputId": "f59fb001-34c8-4821-9b3e-257baf07a682"
      },
      "outputs": [
        {
          "data": {
            "text/plain": [
              "{'E_alpha': 0.6863350898121152,\n",
              " 'E_beta': 1.22651826461008,\n",
              " 'E_theta': 2.2275615131643223,\n",
              " 'E_delta': 2153.130153340282,\n",
              " 'alpha_beta_ratio': 0.5595799994305887,\n",
              " 'peak_frequency': 0.9980506822612085,\n",
              " 'spectral_centroid': 1.1752094777767355,\n",
              " 'spectral_slope': -8.795731721072583}"
            ]
          },
          "execution_count": 149,
          "metadata": {},
          "output_type": "execute_result"
        }
      ],
      "source": [
        "#features\n",
        "segment_features"
      ]
    },
    {
      "cell_type": "code",
      "execution_count": 150,
      "id": "51c46195",
      "metadata": {
        "id": "51c46195"
      },
      "outputs": [],
      "source": [
        "columns = ['E_alpha', 'E_beta', 'E_theta', 'E_delta', 'alpha_beta_ratio','peak_frequency','spectral_centroid','spectral_slope']\n",
        "\n",
        "# Create a DataFrame\n",
        "df = pd.DataFrame(features, columns=columns)\n",
        "\n",
        "df['label'] = y\n"
      ]
    },
    {
      "cell_type": "code",
      "execution_count": 151,
      "id": "169e13ce",
      "metadata": {
        "colab": {
          "base_uri": "https://localhost:8080/",
          "height": 300
        },
        "id": "169e13ce",
        "outputId": "364561d4-85f9-42f6-ae1d-325c59363a0d"
      },
      "outputs": [
        {
          "data": {
            "text/html": [
              "<div>\n",
              "<style scoped>\n",
              "    .dataframe tbody tr th:only-of-type {\n",
              "        vertical-align: middle;\n",
              "    }\n",
              "\n",
              "    .dataframe tbody tr th {\n",
              "        vertical-align: top;\n",
              "    }\n",
              "\n",
              "    .dataframe thead th {\n",
              "        text-align: right;\n",
              "    }\n",
              "</style>\n",
              "<table border=\"1\" class=\"dataframe\">\n",
              "  <thead>\n",
              "    <tr style=\"text-align: right;\">\n",
              "      <th></th>\n",
              "      <th>E_alpha</th>\n",
              "      <th>E_beta</th>\n",
              "      <th>E_theta</th>\n",
              "      <th>E_delta</th>\n",
              "      <th>alpha_beta_ratio</th>\n",
              "      <th>peak_frequency</th>\n",
              "      <th>spectral_centroid</th>\n",
              "      <th>spectral_slope</th>\n",
              "      <th>label</th>\n",
              "    </tr>\n",
              "  </thead>\n",
              "  <tbody>\n",
              "    <tr>\n",
              "      <th>count</th>\n",
              "      <td>2364.000000</td>\n",
              "      <td>2364.000000</td>\n",
              "      <td>2364.000000</td>\n",
              "      <td>2364.000000</td>\n",
              "      <td>2364.000000</td>\n",
              "      <td>2364.000000</td>\n",
              "      <td>2364.000000</td>\n",
              "      <td>2364.000000</td>\n",
              "      <td>2294.000000</td>\n",
              "    </tr>\n",
              "    <tr>\n",
              "      <th>mean</th>\n",
              "      <td>7.341937</td>\n",
              "      <td>13.287548</td>\n",
              "      <td>10.043912</td>\n",
              "      <td>657.968401</td>\n",
              "      <td>0.699335</td>\n",
              "      <td>1.383930</td>\n",
              "      <td>2.992057</td>\n",
              "      <td>-9.295626</td>\n",
              "      <td>0.492589</td>\n",
              "    </tr>\n",
              "    <tr>\n",
              "      <th>std</th>\n",
              "      <td>35.974034</td>\n",
              "      <td>94.286404</td>\n",
              "      <td>52.905164</td>\n",
              "      <td>778.218221</td>\n",
              "      <td>0.984193</td>\n",
              "      <td>2.239028</td>\n",
              "      <td>3.243684</td>\n",
              "      <td>0.826143</td>\n",
              "      <td>0.500054</td>\n",
              "    </tr>\n",
              "    <tr>\n",
              "      <th>min</th>\n",
              "      <td>0.000956</td>\n",
              "      <td>0.003623</td>\n",
              "      <td>0.000588</td>\n",
              "      <td>0.004902</td>\n",
              "      <td>0.016496</td>\n",
              "      <td>0.000000</td>\n",
              "      <td>0.725233</td>\n",
              "      <td>-13.386204</td>\n",
              "      <td>0.000000</td>\n",
              "    </tr>\n",
              "    <tr>\n",
              "      <th>25%</th>\n",
              "      <td>1.132241</td>\n",
              "      <td>2.673519</td>\n",
              "      <td>0.938916</td>\n",
              "      <td>53.084116</td>\n",
              "      <td>0.247291</td>\n",
              "      <td>0.998051</td>\n",
              "      <td>0.927155</td>\n",
              "      <td>-9.815331</td>\n",
              "      <td>0.000000</td>\n",
              "    </tr>\n",
              "    <tr>\n",
              "      <th>50%</th>\n",
              "      <td>1.992112</td>\n",
              "      <td>4.527768</td>\n",
              "      <td>1.818767</td>\n",
              "      <td>355.206359</td>\n",
              "      <td>0.451320</td>\n",
              "      <td>0.998051</td>\n",
              "      <td>1.549876</td>\n",
              "      <td>-9.275085</td>\n",
              "      <td>0.000000</td>\n",
              "    </tr>\n",
              "    <tr>\n",
              "      <th>75%</th>\n",
              "      <td>4.050026</td>\n",
              "      <td>8.592776</td>\n",
              "      <td>3.943195</td>\n",
              "      <td>1064.736971</td>\n",
              "      <td>0.835236</td>\n",
              "      <td>0.998051</td>\n",
              "      <td>3.491094</td>\n",
              "      <td>-8.588537</td>\n",
              "      <td>1.000000</td>\n",
              "    </tr>\n",
              "    <tr>\n",
              "      <th>max</th>\n",
              "      <td>1038.766500</td>\n",
              "      <td>4235.553677</td>\n",
              "      <td>1247.134814</td>\n",
              "      <td>6177.734606</td>\n",
              "      <td>24.235739</td>\n",
              "      <td>28.943470</td>\n",
              "      <td>21.221874</td>\n",
              "      <td>-7.681205</td>\n",
              "      <td>1.000000</td>\n",
              "    </tr>\n",
              "  </tbody>\n",
              "</table>\n",
              "</div>"
            ],
            "text/plain": [
              "           E_alpha       E_beta      E_theta      E_delta  alpha_beta_ratio  \\\n",
              "count  2364.000000  2364.000000  2364.000000  2364.000000       2364.000000   \n",
              "mean      7.341937    13.287548    10.043912   657.968401          0.699335   \n",
              "std      35.974034    94.286404    52.905164   778.218221          0.984193   \n",
              "min       0.000956     0.003623     0.000588     0.004902          0.016496   \n",
              "25%       1.132241     2.673519     0.938916    53.084116          0.247291   \n",
              "50%       1.992112     4.527768     1.818767   355.206359          0.451320   \n",
              "75%       4.050026     8.592776     3.943195  1064.736971          0.835236   \n",
              "max    1038.766500  4235.553677  1247.134814  6177.734606         24.235739   \n",
              "\n",
              "       peak_frequency  spectral_centroid  spectral_slope        label  \n",
              "count     2364.000000        2364.000000     2364.000000  2294.000000  \n",
              "mean         1.383930           2.992057       -9.295626     0.492589  \n",
              "std          2.239028           3.243684        0.826143     0.500054  \n",
              "min          0.000000           0.725233      -13.386204     0.000000  \n",
              "25%          0.998051           0.927155       -9.815331     0.000000  \n",
              "50%          0.998051           1.549876       -9.275085     0.000000  \n",
              "75%          0.998051           3.491094       -8.588537     1.000000  \n",
              "max         28.943470          21.221874       -7.681205     1.000000  "
            ]
          },
          "execution_count": 151,
          "metadata": {},
          "output_type": "execute_result"
        }
      ],
      "source": [
        "df.describe()"
      ]
    },
    {
      "cell_type": "code",
      "execution_count": 152,
      "id": "LAa22vMvhrYr",
      "metadata": {
        "id": "LAa22vMvhrYr"
      },
      "outputs": [],
      "source": [
        "#df.to_csv('ready.csv')"
      ]
    },
    {
      "cell_type": "code",
      "execution_count": 153,
      "id": "ea3c1c72",
      "metadata": {
        "id": "ea3c1c72"
      },
      "outputs": [],
      "source": [
        "scaler = StandardScaler()\n",
        "#scaler = RobustScaler()\n",
        "X_scaled = scaler.fit_transform(df.drop('label', axis=1))\n",
        "df_scaled = pd.DataFrame(X_scaled, columns=columns)\n",
        "\n",
        "# Add labels to the DataFrame\n",
        "df_scaled['label'] = df['label']"
      ]
    },
    {
      "cell_type": "code",
      "execution_count": 154,
      "id": "e604e14e",
      "metadata": {
        "colab": {
          "base_uri": "https://localhost:8080/"
        },
        "id": "e604e14e",
        "outputId": "2a127038-9400-4c64-e892-fdcf379ab2dc"
      },
      "outputs": [
        {
          "data": {
            "text/plain": [
              "array([[ 1.44556941,  0.5821209 ,  0.40062428, ..., -0.17237875,\n",
              "         1.45386395, -1.44013829],\n",
              "       [-0.03682234, -0.07906751, -0.13043034, ..., -0.17237875,\n",
              "         1.6095018 , -0.63290103],\n",
              "       [-0.14679905, -0.07601765, -0.10453648, ..., -0.17237875,\n",
              "         0.0188444 , -0.65602143],\n",
              "       ...,\n",
              "       [-0.1904914 , -0.12793841, -0.16243568, ..., -0.17237875,\n",
              "        -0.62766432,  1.75358628],\n",
              "       [-0.19731011, -0.12500877, -0.17706783, ..., -0.17237875,\n",
              "        -0.4651546 ,  1.34571984],\n",
              "       [-0.18505041, -0.12794614, -0.14777394, ..., -0.17237875,\n",
              "        -0.56023705,  0.60522184]])"
            ]
          },
          "execution_count": 154,
          "metadata": {},
          "output_type": "execute_result"
        }
      ],
      "source": [
        "#df_scaled\n",
        "X_scaled"
      ]
    },
    {
      "cell_type": "code",
      "execution_count": 155,
      "id": "304420d5",
      "metadata": {
        "colab": {
          "base_uri": "https://localhost:8080/",
          "height": 564
        },
        "id": "304420d5",
        "outputId": "c73ff860-0638-477b-e0e2-99a7dc2a45a5"
      },
      "outputs": [
        {
          "data": {
            "image/png": "[encoded data removed]",
            "text/plain": [
              "<Figure size 1200x600 with 1 Axes>"
            ]
          },
          "metadata": {},
          "output_type": "display_data"
        }
      ],
      "source": [
        "import matplotlib.pyplot as plt\n",
        "\n",
        "\n",
        "\n",
        "# Plot FFT features\n",
        "plt.figure(figsize=(12, 6))\n",
        "#plt.plot(df.index, df['E_alpha'], label='Alpha Energy')\n",
        "#plt.plot(df.index, df['E_beta'], label='Beta Energy')\n",
        "###plt.plot(df.index, df['E_theta'], label='theta Energy')\n",
        "#plt.plot(df.index, df['E_delta'], label='delta Energy')\n",
        "\n",
        "plt.plot(df.index, df['alpha_beta_ratio'], label='ratio')\n",
        "\n",
        "plt.xlabel('Sample Index')\n",
        "plt.ylabel('Energy')\n",
        "plt.title('FFT Features')\n",
        "plt.legend()\n",
        "plt.show()\n",
        "\n",
        "\n"
      ]
    },
    {
      "cell_type": "code",
      "execution_count": 156,
      "id": "ldqi_B6qFpw0",
      "metadata": {
        "colab": {
          "base_uri": "https://localhost:8080/",
          "height": 564
        },
        "id": "ldqi_B6qFpw0",
        "outputId": "ddc7a6ac-68ac-4a57-baf5-54b5c74c8b14"
      },
      "outputs": [
        {
          "data": {
            "image/png": "[encoded data removed]",
            "text/plain": [
              "<Figure size 1200x600 with 1 Axes>"
            ]
          },
          "metadata": {},
          "output_type": "display_data"
        }
      ],
      "source": [
        "import matplotlib.pyplot as plt\n",
        "\n",
        "# Plot FFT features\n",
        "plt.figure(figsize=(12, 6))\n",
        "#plt.plot(df.index, df['E_alpha'], label='Alpha Energy')\n",
        "#plt.plot(df.index, df['E_beta'], label='Beta Energy')\n",
        "#plt.plot(df.index, df['E_theta'], label='Theta Energy')\n",
        "plt.plot(df.index, df['E_delta'], label='Delta Energy')\n",
        "#plt.plot(df.index, df['alpha_beta_ratio'], label='Alpha/Beta Ratio')\n",
        "\n",
        "plt.yscale('log')\n",
        "\n",
        "threshold = 1e5\n",
        "plt.ylim([1e-5, threshold])\n",
        "\n",
        "plt.xlabel('Sample Index')\n",
        "plt.ylabel('Energy (log scale)')\n",
        "plt.title('FFT Features')\n",
        "plt.legend()\n",
        "plt.show()\n"
      ]
    },
    {
      "cell_type": "code",
      "execution_count": 157,
      "id": "8d24dcc3",
      "metadata": {
        "colab": {
          "base_uri": "https://localhost:8080/"
        },
        "id": "8d24dcc3",
        "outputId": "1877cfed-38fd-498d-ea3f-98b098560938"
      },
      "outputs": [
        {
          "name": "stdout",
          "output_type": "stream",
          "text": [
            "Initial class distribution:\n",
            "label\n",
            "0.0    1164\n",
            "1.0    1130\n",
            "Name: count, dtype: int64\n"
          ]
        },
        {
          "ename": "ValueError",
          "evalue": "Input y contains NaN.",
          "output_type": "error",
          "traceback": [
            "\u001b[0;31m---------------------------------------------------------------------------\u001b[0m",
            "\u001b[0;31mValueError\u001b[0m                                Traceback (most recent call last)",
            "Cell \u001b[0;32mIn[157], line 11\u001b[0m\n\u001b[1;32m      8\u001b[0m \u001b[38;5;28mprint\u001b[39m(df_scaled[\u001b[38;5;124m'\u001b[39m\u001b[38;5;124mlabel\u001b[39m\u001b[38;5;124m'\u001b[39m]\u001b[38;5;241m.\u001b[39mvalue_counts())\n\u001b[1;32m     10\u001b[0m \u001b[38;5;66;03m# Perform a stratified train-test split\u001b[39;00m\n\u001b[0;32m---> 11\u001b[0m X_train, X_test, y_train, y_test \u001b[38;5;241m=\u001b[39m \u001b[43mtrain_test_split\u001b[49m\u001b[43m(\u001b[49m\n\u001b[1;32m     12\u001b[0m \u001b[43m    \u001b[49m\u001b[43mdf_scaled\u001b[49m\u001b[38;5;241;43m.\u001b[39;49m\u001b[43mdrop\u001b[49m\u001b[43m(\u001b[49m\u001b[38;5;124;43m'\u001b[39;49m\u001b[38;5;124;43mlabel\u001b[39;49m\u001b[38;5;124;43m'\u001b[39;49m\u001b[43m,\u001b[49m\u001b[43m \u001b[49m\u001b[43maxis\u001b[49m\u001b[38;5;241;43m=\u001b[39;49m\u001b[38;5;241;43m1\u001b[39;49m\u001b[43m)\u001b[49m\u001b[43m,\u001b[49m\u001b[43m \u001b[49m\n\u001b[1;32m     13\u001b[0m \u001b[43m    \u001b[49m\u001b[43mdf_scaled\u001b[49m\u001b[43m[\u001b[49m\u001b[38;5;124;43m'\u001b[39;49m\u001b[38;5;124;43mlabel\u001b[39;49m\u001b[38;5;124;43m'\u001b[39;49m\u001b[43m]\u001b[49m\u001b[43m,\u001b[49m\u001b[43m \u001b[49m\n\u001b[1;32m     14\u001b[0m \u001b[43m    \u001b[49m\u001b[43mtest_size\u001b[49m\u001b[38;5;241;43m=\u001b[39;49m\u001b[38;5;241;43m0.2\u001b[39;49m\u001b[43m,\u001b[49m\u001b[43m \u001b[49m\n\u001b[1;32m     15\u001b[0m \u001b[43m    \u001b[49m\u001b[43mrandom_state\u001b[49m\u001b[38;5;241;43m=\u001b[39;49m\u001b[38;5;241;43m42\u001b[39;49m\u001b[43m,\u001b[49m\u001b[43m \u001b[49m\n\u001b[1;32m     16\u001b[0m \u001b[43m    \u001b[49m\u001b[43mstratify\u001b[49m\u001b[38;5;241;43m=\u001b[39;49m\u001b[43mdf_scaled\u001b[49m\u001b[43m[\u001b[49m\u001b[38;5;124;43m'\u001b[39;49m\u001b[38;5;124;43mlabel\u001b[39;49m\u001b[38;5;124;43m'\u001b[39;49m\u001b[43m]\u001b[49m\n\u001b[1;32m     17\u001b[0m \u001b[43m)\u001b[49m\n\u001b[1;32m     19\u001b[0m \u001b[38;5;66;03m# Check the class distribution in y_train and y_test\u001b[39;00m\n\u001b[1;32m     20\u001b[0m \u001b[38;5;28mprint\u001b[39m(\u001b[38;5;124m\"\u001b[39m\u001b[38;5;124mClass distribution in y_train:\u001b[39m\u001b[38;5;124m\"\u001b[39m, np\u001b[38;5;241m.\u001b[39munique(y_train, return_counts\u001b[38;5;241m=\u001b[39m\u001b[38;5;28;01mTrue\u001b[39;00m))\n",
            "File \u001b[0;32m/Library/Frameworks/Python.framework/Versions/3.11/lib/python3.11/site-packages/sklearn/utils/_param_validation.py:213\u001b[0m, in \u001b[0;36mvalidate_params.<locals>.decorator.<locals>.wrapper\u001b[0;34m(*args, **kwargs)\u001b[0m\n\u001b[1;32m    207\u001b[0m \u001b[38;5;28;01mtry\u001b[39;00m:\n\u001b[1;32m    208\u001b[0m     \u001b[38;5;28;01mwith\u001b[39;00m config_context(\n\u001b[1;32m    209\u001b[0m         skip_parameter_validation\u001b[38;5;241m=\u001b[39m(\n\u001b[1;32m    210\u001b[0m             prefer_skip_nested_validation \u001b[38;5;129;01mor\u001b[39;00m global_skip_validation\n\u001b[1;32m    211\u001b[0m         )\n\u001b[1;32m    212\u001b[0m     ):\n\u001b[0;32m--> 213\u001b[0m         \u001b[38;5;28;01mreturn\u001b[39;00m \u001b[43mfunc\u001b[49m\u001b[43m(\u001b[49m\u001b[38;5;241;43m*\u001b[39;49m\u001b[43margs\u001b[49m\u001b[43m,\u001b[49m\u001b[43m \u001b[49m\u001b[38;5;241;43m*\u001b[39;49m\u001b[38;5;241;43m*\u001b[39;49m\u001b[43mkwargs\u001b[49m\u001b[43m)\u001b[49m\n\u001b[1;32m    214\u001b[0m \u001b[38;5;28;01mexcept\u001b[39;00m InvalidParameterError \u001b[38;5;28;01mas\u001b[39;00m e:\n\u001b[1;32m    215\u001b[0m     \u001b[38;5;66;03m# When the function is just a wrapper around an estimator, we allow\u001b[39;00m\n\u001b[1;32m    216\u001b[0m     \u001b[38;5;66;03m# the function to delegate validation to the estimator, but we replace\u001b[39;00m\n\u001b[1;32m    217\u001b[0m     \u001b[38;5;66;03m# the name of the estimator by the name of the function in the error\u001b[39;00m\n\u001b[1;32m    218\u001b[0m     \u001b[38;5;66;03m# message to avoid confusion.\u001b[39;00m\n\u001b[1;32m    219\u001b[0m     msg \u001b[38;5;241m=\u001b[39m re\u001b[38;5;241m.\u001b[39msub(\n\u001b[1;32m    220\u001b[0m         \u001b[38;5;124mr\u001b[39m\u001b[38;5;124m\"\u001b[39m\u001b[38;5;124mparameter of \u001b[39m\u001b[38;5;124m\\\u001b[39m\u001b[38;5;124mw+ must be\u001b[39m\u001b[38;5;124m\"\u001b[39m,\n\u001b[1;32m    221\u001b[0m         \u001b[38;5;124mf\u001b[39m\u001b[38;5;124m\"\u001b[39m\u001b[38;5;124mparameter of \u001b[39m\u001b[38;5;132;01m{\u001b[39;00mfunc\u001b[38;5;241m.\u001b[39m\u001b[38;5;18m__qualname__\u001b[39m\u001b[38;5;132;01m}\u001b[39;00m\u001b[38;5;124m must be\u001b[39m\u001b[38;5;124m\"\u001b[39m,\n\u001b[1;32m    222\u001b[0m         \u001b[38;5;28mstr\u001b[39m(e),\n\u001b[1;32m    223\u001b[0m     )\n",
            "File \u001b[0;32m/Library/Frameworks/Python.framework/Versions/3.11/lib/python3.11/site-packages/sklearn/model_selection/_split.py:2806\u001b[0m, in \u001b[0;36mtrain_test_split\u001b[0;34m(test_size, train_size, random_state, shuffle, stratify, *arrays)\u001b[0m\n\u001b[1;32m   2802\u001b[0m         CVClass \u001b[38;5;241m=\u001b[39m ShuffleSplit\n\u001b[1;32m   2804\u001b[0m     cv \u001b[38;5;241m=\u001b[39m CVClass(test_size\u001b[38;5;241m=\u001b[39mn_test, train_size\u001b[38;5;241m=\u001b[39mn_train, random_state\u001b[38;5;241m=\u001b[39mrandom_state)\n\u001b[0;32m-> 2806\u001b[0m     train, test \u001b[38;5;241m=\u001b[39m \u001b[38;5;28mnext\u001b[39m(\u001b[43mcv\u001b[49m\u001b[38;5;241;43m.\u001b[39;49m\u001b[43msplit\u001b[49m\u001b[43m(\u001b[49m\u001b[43mX\u001b[49m\u001b[38;5;241;43m=\u001b[39;49m\u001b[43marrays\u001b[49m\u001b[43m[\u001b[49m\u001b[38;5;241;43m0\u001b[39;49m\u001b[43m]\u001b[49m\u001b[43m,\u001b[49m\u001b[43m \u001b[49m\u001b[43my\u001b[49m\u001b[38;5;241;43m=\u001b[39;49m\u001b[43mstratify\u001b[49m\u001b[43m)\u001b[49m)\n\u001b[1;32m   2808\u001b[0m train, test \u001b[38;5;241m=\u001b[39m ensure_common_namespace_device(arrays[\u001b[38;5;241m0\u001b[39m], train, test)\n\u001b[1;32m   2810\u001b[0m \u001b[38;5;28;01mreturn\u001b[39;00m \u001b[38;5;28mlist\u001b[39m(\n\u001b[1;32m   2811\u001b[0m     chain\u001b[38;5;241m.\u001b[39mfrom_iterable(\n\u001b[1;32m   2812\u001b[0m         (_safe_indexing(a, train), _safe_indexing(a, test)) \u001b[38;5;28;01mfor\u001b[39;00m a \u001b[38;5;129;01min\u001b[39;00m arrays\n\u001b[1;32m   2813\u001b[0m     )\n\u001b[1;32m   2814\u001b[0m )\n",
            "File \u001b[0;32m/Library/Frameworks/Python.framework/Versions/3.11/lib/python3.11/site-packages/sklearn/model_selection/_split.py:2339\u001b[0m, in \u001b[0;36mStratifiedShuffleSplit.split\u001b[0;34m(self, X, y, groups)\u001b[0m\n\u001b[1;32m   2334\u001b[0m \u001b[38;5;28;01mif\u001b[39;00m groups \u001b[38;5;129;01mis\u001b[39;00m \u001b[38;5;129;01mnot\u001b[39;00m \u001b[38;5;28;01mNone\u001b[39;00m:\n\u001b[1;32m   2335\u001b[0m     warnings\u001b[38;5;241m.\u001b[39mwarn(\n\u001b[1;32m   2336\u001b[0m         \u001b[38;5;124mf\u001b[39m\u001b[38;5;124m\"\u001b[39m\u001b[38;5;124mThe groups parameter is ignored by \u001b[39m\u001b[38;5;132;01m{\u001b[39;00m\u001b[38;5;28mself\u001b[39m\u001b[38;5;241m.\u001b[39m\u001b[38;5;18m__class__\u001b[39m\u001b[38;5;241m.\u001b[39m\u001b[38;5;18m__name__\u001b[39m\u001b[38;5;132;01m}\u001b[39;00m\u001b[38;5;124m\"\u001b[39m,\n\u001b[1;32m   2337\u001b[0m         \u001b[38;5;167;01mUserWarning\u001b[39;00m,\n\u001b[1;32m   2338\u001b[0m     )\n\u001b[0;32m-> 2339\u001b[0m y \u001b[38;5;241m=\u001b[39m \u001b[43mcheck_array\u001b[49m\u001b[43m(\u001b[49m\u001b[43my\u001b[49m\u001b[43m,\u001b[49m\u001b[43m \u001b[49m\u001b[43minput_name\u001b[49m\u001b[38;5;241;43m=\u001b[39;49m\u001b[38;5;124;43m\"\u001b[39;49m\u001b[38;5;124;43my\u001b[39;49m\u001b[38;5;124;43m\"\u001b[39;49m\u001b[43m,\u001b[49m\u001b[43m \u001b[49m\u001b[43mensure_2d\u001b[49m\u001b[38;5;241;43m=\u001b[39;49m\u001b[38;5;28;43;01mFalse\u001b[39;49;00m\u001b[43m,\u001b[49m\u001b[43m \u001b[49m\u001b[43mdtype\u001b[49m\u001b[38;5;241;43m=\u001b[39;49m\u001b[38;5;28;43;01mNone\u001b[39;49;00m\u001b[43m)\u001b[49m\n\u001b[1;32m   2340\u001b[0m \u001b[38;5;28;01mreturn\u001b[39;00m \u001b[38;5;28msuper\u001b[39m()\u001b[38;5;241m.\u001b[39msplit(X, y, groups)\n",
            "File \u001b[0;32m/Library/Frameworks/Python.framework/Versions/3.11/lib/python3.11/site-packages/sklearn/utils/validation.py:1064\u001b[0m, in \u001b[0;36mcheck_array\u001b[0;34m(array, accept_sparse, accept_large_sparse, dtype, order, copy, force_writeable, force_all_finite, ensure_2d, allow_nd, ensure_min_samples, ensure_min_features, estimator, input_name)\u001b[0m\n\u001b[1;32m   1058\u001b[0m     \u001b[38;5;28;01mraise\u001b[39;00m \u001b[38;5;167;01mValueError\u001b[39;00m(\n\u001b[1;32m   1059\u001b[0m         \u001b[38;5;124m\"\u001b[39m\u001b[38;5;124mFound array with dim \u001b[39m\u001b[38;5;132;01m%d\u001b[39;00m\u001b[38;5;124m. \u001b[39m\u001b[38;5;132;01m%s\u001b[39;00m\u001b[38;5;124m expected <= 2.\u001b[39m\u001b[38;5;124m\"\u001b[39m\n\u001b[1;32m   1060\u001b[0m         \u001b[38;5;241m%\u001b[39m (array\u001b[38;5;241m.\u001b[39mndim, estimator_name)\n\u001b[1;32m   1061\u001b[0m     )\n\u001b[1;32m   1063\u001b[0m \u001b[38;5;28;01mif\u001b[39;00m force_all_finite:\n\u001b[0;32m-> 1064\u001b[0m     \u001b[43m_assert_all_finite\u001b[49m\u001b[43m(\u001b[49m\n\u001b[1;32m   1065\u001b[0m \u001b[43m        \u001b[49m\u001b[43marray\u001b[49m\u001b[43m,\u001b[49m\n\u001b[1;32m   1066\u001b[0m \u001b[43m        \u001b[49m\u001b[43minput_name\u001b[49m\u001b[38;5;241;43m=\u001b[39;49m\u001b[43minput_name\u001b[49m\u001b[43m,\u001b[49m\n\u001b[1;32m   1067\u001b[0m \u001b[43m        \u001b[49m\u001b[43mestimator_name\u001b[49m\u001b[38;5;241;43m=\u001b[39;49m\u001b[43mestimator_name\u001b[49m\u001b[43m,\u001b[49m\n\u001b[1;32m   1068\u001b[0m \u001b[43m        \u001b[49m\u001b[43mallow_nan\u001b[49m\u001b[38;5;241;43m=\u001b[39;49m\u001b[43mforce_all_finite\u001b[49m\u001b[43m \u001b[49m\u001b[38;5;241;43m==\u001b[39;49m\u001b[43m \u001b[49m\u001b[38;5;124;43m\"\u001b[39;49m\u001b[38;5;124;43mallow-nan\u001b[39;49m\u001b[38;5;124;43m\"\u001b[39;49m\u001b[43m,\u001b[49m\n\u001b[1;32m   1069\u001b[0m \u001b[43m    \u001b[49m\u001b[43m)\u001b[49m\n\u001b[1;32m   1071\u001b[0m \u001b[38;5;28;01mif\u001b[39;00m copy:\n\u001b[1;32m   1072\u001b[0m     \u001b[38;5;28;01mif\u001b[39;00m _is_numpy_namespace(xp):\n\u001b[1;32m   1073\u001b[0m         \u001b[38;5;66;03m# only make a copy if `array` and `array_orig` may share memory`\u001b[39;00m\n",
            "File \u001b[0;32m/Library/Frameworks/Python.framework/Versions/3.11/lib/python3.11/site-packages/sklearn/utils/validation.py:123\u001b[0m, in \u001b[0;36m_assert_all_finite\u001b[0;34m(X, allow_nan, msg_dtype, estimator_name, input_name)\u001b[0m\n\u001b[1;32m    120\u001b[0m \u001b[38;5;28;01mif\u001b[39;00m first_pass_isfinite:\n\u001b[1;32m    121\u001b[0m     \u001b[38;5;28;01mreturn\u001b[39;00m\n\u001b[0;32m--> 123\u001b[0m \u001b[43m_assert_all_finite_element_wise\u001b[49m\u001b[43m(\u001b[49m\n\u001b[1;32m    124\u001b[0m \u001b[43m    \u001b[49m\u001b[43mX\u001b[49m\u001b[43m,\u001b[49m\n\u001b[1;32m    125\u001b[0m \u001b[43m    \u001b[49m\u001b[43mxp\u001b[49m\u001b[38;5;241;43m=\u001b[39;49m\u001b[43mxp\u001b[49m\u001b[43m,\u001b[49m\n\u001b[1;32m    126\u001b[0m \u001b[43m    \u001b[49m\u001b[43mallow_nan\u001b[49m\u001b[38;5;241;43m=\u001b[39;49m\u001b[43mallow_nan\u001b[49m\u001b[43m,\u001b[49m\n\u001b[1;32m    127\u001b[0m \u001b[43m    \u001b[49m\u001b[43mmsg_dtype\u001b[49m\u001b[38;5;241;43m=\u001b[39;49m\u001b[43mmsg_dtype\u001b[49m\u001b[43m,\u001b[49m\n\u001b[1;32m    128\u001b[0m \u001b[43m    \u001b[49m\u001b[43mestimator_name\u001b[49m\u001b[38;5;241;43m=\u001b[39;49m\u001b[43mestimator_name\u001b[49m\u001b[43m,\u001b[49m\n\u001b[1;32m    129\u001b[0m \u001b[43m    \u001b[49m\u001b[43minput_name\u001b[49m\u001b[38;5;241;43m=\u001b[39;49m\u001b[43minput_name\u001b[49m\u001b[43m,\u001b[49m\n\u001b[1;32m    130\u001b[0m \u001b[43m\u001b[49m\u001b[43m)\u001b[49m\n",
            "File \u001b[0;32m/Library/Frameworks/Python.framework/Versions/3.11/lib/python3.11/site-packages/sklearn/utils/validation.py:172\u001b[0m, in \u001b[0;36m_assert_all_finite_element_wise\u001b[0;34m(X, xp, allow_nan, msg_dtype, estimator_name, input_name)\u001b[0m\n\u001b[1;32m    155\u001b[0m \u001b[38;5;28;01mif\u001b[39;00m estimator_name \u001b[38;5;129;01mand\u001b[39;00m input_name \u001b[38;5;241m==\u001b[39m \u001b[38;5;124m\"\u001b[39m\u001b[38;5;124mX\u001b[39m\u001b[38;5;124m\"\u001b[39m \u001b[38;5;129;01mand\u001b[39;00m has_nan_error:\n\u001b[1;32m    156\u001b[0m     \u001b[38;5;66;03m# Improve the error message on how to handle missing values in\u001b[39;00m\n\u001b[1;32m    157\u001b[0m     \u001b[38;5;66;03m# scikit-learn.\u001b[39;00m\n\u001b[1;32m    158\u001b[0m     msg_err \u001b[38;5;241m+\u001b[39m\u001b[38;5;241m=\u001b[39m (\n\u001b[1;32m    159\u001b[0m         \u001b[38;5;124mf\u001b[39m\u001b[38;5;124m\"\u001b[39m\u001b[38;5;130;01m\\n\u001b[39;00m\u001b[38;5;132;01m{\u001b[39;00mestimator_name\u001b[38;5;132;01m}\u001b[39;00m\u001b[38;5;124m does not accept missing values\u001b[39m\u001b[38;5;124m\"\u001b[39m\n\u001b[1;32m    160\u001b[0m         \u001b[38;5;124m\"\u001b[39m\u001b[38;5;124m encoded as NaN natively. For supervised learning, you might want\u001b[39m\u001b[38;5;124m\"\u001b[39m\n\u001b[0;32m   (...)\u001b[0m\n\u001b[1;32m    170\u001b[0m         \u001b[38;5;124m\"\u001b[39m\u001b[38;5;124m#estimators-that-handle-nan-values\u001b[39m\u001b[38;5;124m\"\u001b[39m\n\u001b[1;32m    171\u001b[0m     )\n\u001b[0;32m--> 172\u001b[0m \u001b[38;5;28;01mraise\u001b[39;00m \u001b[38;5;167;01mValueError\u001b[39;00m(msg_err)\n",
            "\u001b[0;31mValueError\u001b[0m: Input y contains NaN."
          ]
        }
      ],
      "source": [
        "from sklearn.model_selection import train_test_split\n",
        "from sklearn.svm import SVC\n",
        "from sklearn.metrics import accuracy_score\n",
        "import numpy as np\n",
        "\n",
        "# Check initial class distribution\n",
        "print(\"Initial class distribution:\")\n",
        "print(df_scaled['label'].value_counts())\n",
        "\n",
        "# Perform a stratified train-test split\n",
        "X_train, X_test, y_train, y_test = train_test_split(\n",
        "    df_scaled.drop('label', axis=1), \n",
        "    df_scaled['label'], \n",
        "    test_size=0.2, \n",
        "    random_state=42, \n",
        "    stratify=df_scaled['label']\n",
        ")\n",
        "\n",
        "# Check the class distribution in y_train and y_test\n",
        "print(\"Class distribution in y_train:\", np.unique(y_train, return_counts=True))\n",
        "print(\"Class distribution in y_test:\", np.unique(y_test, return_counts=True))\n",
        "\n",
        "# Verify that both classes are present in y_train\n",
        "if len(np.unique(y_train)) > 1:\n",
        "    # Initialize and train the classifier only if both classes are present\n",
        "    clf = SVC(probability=True, random_state=42)\n",
        "    clf.fit(X_train, y_train)\n",
        "\n",
        "    # Make predictions and calculate accuracy\n",
        "    y_pred = clf.predict(X_test)\n",
        "    accuracy = accuracy_score(y_test, y_pred)\n",
        "    print(f\"Classification Accuracy: {accuracy}\")\n",
        "else:\n",
        "    print(\"Error: y_train contains only one class after splitting. Consider adjusting the dataset or using resampling.\")\n"
      ]
    },
    {
      "cell_type": "code",
      "execution_count": null,
      "id": "Rd68D-aN6NID",
      "metadata": {
        "colab": {
          "base_uri": "https://localhost:8080/"
        },
        "id": "Rd68D-aN6NID",
        "outputId": "08411eca-cad0-47bd-807d-2adfc7b682f8"
      },
      "outputs": [
        {
          "name": "stdout",
          "output_type": "stream",
          "text": [
            "Fitting 5 folds for each of 24 candidates, totalling 120 fits\n"
          ]
        },
        {
          "name": "stdout",
          "output_type": "stream",
          "text": [
            "[CV] END .....................C=0.1, gamma=scale, kernel=rbf; total time=   2.7s\n",
            "[CV] END ......................C=0.1, gamma=auto, kernel=rbf; total time=   2.8s\n",
            "[CV] END .....................C=0.1, gamma=scale, kernel=rbf; total time=   3.0s\n",
            "[CV] END .....................C=0.1, gamma=scale, kernel=rbf; total time=   3.0s\n",
            "[CV] END ......................C=0.1, gamma=auto, kernel=rbf; total time=   2.9s\n",
            "[CV] END .....................C=0.1, gamma=scale, kernel=rbf; total time=   3.3s\n",
            "[CV] END ......................C=0.1, gamma=auto, kernel=rbf; total time=   3.3s\n",
            "[CV] END .....................C=0.1, gamma=scale, kernel=rbf; total time=   3.0s\n",
            "[CV] END .......................C=0.1, gamma=0.1, kernel=rbf; total time=   1.5s\n",
            "[CV] END ......................C=0.1, gamma=0.01, kernel=rbf; total time=   0.9s\n",
            "[CV] END ......................C=0.1, gamma=auto, kernel=rbf; total time=   1.8s\n",
            "[CV] END ......................C=0.1, gamma=auto, kernel=rbf; total time=   1.9s\n",
            "[CV] END .......................C=0.1, gamma=0.1, kernel=rbf; total time=   1.5s\n",
            "[CV] END .......................C=0.1, gamma=0.1, kernel=rbf; total time=   1.8s\n",
            "[CV] END .......................C=0.1, gamma=0.1, kernel=rbf; total time=   2.0s\n",
            "[CV] END .......................C=0.1, gamma=0.1, kernel=rbf; total time=   2.3s\n",
            "[CV] END ......................C=0.1, gamma=0.01, kernel=rbf; total time=   2.7s\n",
            "[CV] END ......................C=0.1, gamma=0.01, kernel=rbf; total time=   2.9s\n",
            "[CV] END ......................C=0.1, gamma=0.01, kernel=rbf; total time=   2.9s\n",
            "[CV] END .....................C=0.1, gamma=0.001, kernel=rbf; total time=   2.1s\n",
            "[CV] END ......................C=0.1, gamma=0.01, kernel=rbf; total time=   3.0s\n",
            "[CV] END .....................C=0.1, gamma=0.001, kernel=rbf; total time=   3.0s\n",
            "[CV] END .....................C=0.1, gamma=0.001, kernel=rbf; total time=   2.1s\n",
            "[CV] END .....................C=0.1, gamma=0.001, kernel=rbf; total time=   2.3s\n",
            "[CV] END .....................C=0.1, gamma=0.001, kernel=rbf; total time=   1.7s\n",
            "[CV] END ....................C=0.1, gamma=0.0001, kernel=rbf; total time=   1.5s\n",
            "[CV] END ....................C=0.1, gamma=0.0001, kernel=rbf; total time=   1.5s\n",
            "[CV] END ....................C=0.1, gamma=0.0001, kernel=rbf; total time=   1.5s\n",
            "[CV] END ....................C=0.1, gamma=0.0001, kernel=rbf; total time=   1.7s\n",
            "[CV] END ....................C=0.1, gamma=0.0001, kernel=rbf; total time=   1.5s\n",
            "[CV] END .......................C=1, gamma=scale, kernel=rbf; total time=   2.4s\n",
            "[CV] END .......................C=1, gamma=scale, kernel=rbf; total time=   2.4s\n",
            "[CV] END .......................C=1, gamma=scale, kernel=rbf; total time=   2.3s\n",
            "[CV] END .......................C=1, gamma=scale, kernel=rbf; total time=   2.3s\n",
            "[CV] END .......................C=1, gamma=scale, kernel=rbf; total time=   2.5s\n",
            "[CV] END ........................C=1, gamma=auto, kernel=rbf; total time=   2.2s\n",
            "[CV] END ........................C=1, gamma=auto, kernel=rbf; total time=   2.8s\n",
            "[CV] END ........................C=1, gamma=auto, kernel=rbf; total time=   2.7s\n",
            "[CV] END ........................C=1, gamma=auto, kernel=rbf; total time=   2.7s\n",
            "[CV] END ........................C=1, gamma=auto, kernel=rbf; total time=   2.6s\n",
            "[CV] END ........................C=1, gamma=0.01, kernel=rbf; total time=   1.4s\n",
            "[CV] END .........................C=1, gamma=0.1, kernel=rbf; total time=   2.3s\n",
            "[CV] END .........................C=1, gamma=0.1, kernel=rbf; total time=   2.4s\n",
            "[CV] END .........................C=1, gamma=0.1, kernel=rbf; total time=   2.5s\n",
            "[CV] END .........................C=1, gamma=0.1, kernel=rbf; total time=   2.5s\n",
            "[CV] END .........................C=1, gamma=0.1, kernel=rbf; total time=   2.4s\n",
            "[CV] END ........................C=1, gamma=0.01, kernel=rbf; total time=   1.7s\n",
            "[CV] END ........................C=1, gamma=0.01, kernel=rbf; total time=   1.7s\n",
            "[CV] END ........................C=1, gamma=0.01, kernel=rbf; total time=   1.7s\n",
            "[CV] END .......................C=1, gamma=0.001, kernel=rbf; total time=   1.4s\n",
            "[CV] END .......................C=1, gamma=0.001, kernel=rbf; total time=   1.5s\n",
            "[CV] END ........................C=1, gamma=0.01, kernel=rbf; total time=   1.8s\n",
            "[CV] END .......................C=1, gamma=0.001, kernel=rbf; total time=   1.7s\n",
            "[CV] END .......................C=1, gamma=0.001, kernel=rbf; total time=   1.6s\n",
            "[CV] END ......................C=1, gamma=0.0001, kernel=rbf; total time=   1.2s\n",
            "[CV] END .......................C=1, gamma=0.001, kernel=rbf; total time=   1.4s\n",
            "[CV] END ......................C=1, gamma=0.0001, kernel=rbf; total time=   1.1s\n",
            "[CV] END ......................C=1, gamma=0.0001, kernel=rbf; total time=   1.1s\n",
            "[CV] END ......................C=1, gamma=0.0001, kernel=rbf; total time=   1.1s\n",
            "[CV] END ......................C=1, gamma=0.0001, kernel=rbf; total time=   1.1s\n",
            "[CV] END ......................C=10, gamma=scale, kernel=rbf; total time=   4.0s\n",
            "[CV] END ......................C=10, gamma=scale, kernel=rbf; total time=   4.1s\n",
            "[CV] END ......................C=10, gamma=scale, kernel=rbf; total time=   4.0s\n",
            "[CV] END .......................C=10, gamma=auto, kernel=rbf; total time=   3.9s\n",
            "[CV] END ......................C=10, gamma=scale, kernel=rbf; total time=   4.2s\n",
            "[CV] END .......................C=10, gamma=auto, kernel=rbf; total time=   4.0s\n",
            "[CV] END ......................C=10, gamma=scale, kernel=rbf; total time=   4.4s\n",
            "[CV] END .......................C=10, gamma=auto, kernel=rbf; total time=   3.8s\n",
            "[CV] END .......................C=10, gamma=0.01, kernel=rbf; total time=   2.1s\n",
            "[CV] END .......................C=10, gamma=auto, kernel=rbf; total time=   4.6s\n",
            "[CV] END ........................C=10, gamma=0.1, kernel=rbf; total time=   4.1s\n",
            "[CV] END .......................C=10, gamma=auto, kernel=rbf; total time=   4.4s\n",
            "[CV] END ........................C=10, gamma=0.1, kernel=rbf; total time=   4.3s\n",
            "[CV] END ........................C=10, gamma=0.1, kernel=rbf; total time=   4.2s\n",
            "[CV] END ........................C=10, gamma=0.1, kernel=rbf; total time=   4.5s\n",
            "[CV] END ........................C=10, gamma=0.1, kernel=rbf; total time=   4.7s\n",
            "[CV] END ......................C=10, gamma=0.001, kernel=rbf; total time=   1.5s\n",
            "[CV] END .......................C=10, gamma=0.01, kernel=rbf; total time=   3.4s\n",
            "[CV] END ......................C=10, gamma=0.001, kernel=rbf; total time=   1.6s\n",
            "[CV] END ......................C=10, gamma=0.001, kernel=rbf; total time=   1.8s\n",
            "[CV] END ......................C=10, gamma=0.001, kernel=rbf; total time=   2.1s\n",
            "[CV] END .......................C=10, gamma=0.01, kernel=rbf; total time=   2.9s\n",
            "[CV] END .......................C=10, gamma=0.01, kernel=rbf; total time=   3.1s\n",
            "[CV] END .......................C=10, gamma=0.01, kernel=rbf; total time=   3.1s\n",
            "[CV] END .....................C=10, gamma=0.0001, kernel=rbf; total time=   1.7s\n",
            "[CV] END .....................C=10, gamma=0.0001, kernel=rbf; total time=   1.7s\n",
            "[CV] END ......................C=10, gamma=0.001, kernel=rbf; total time=   1.9s\n",
            "[CV] END .....................C=10, gamma=0.0001, kernel=rbf; total time=   1.4s\n",
            "[CV] END .....................C=10, gamma=0.0001, kernel=rbf; total time=   1.2s\n",
            "[CV] END .....................C=10, gamma=0.0001, kernel=rbf; total time=   1.3s\n",
            "[CV] END .....................C=100, gamma=scale, kernel=rbf; total time=   7.2s\n",
            "[CV] END ......................C=100, gamma=auto, kernel=rbf; total time=   7.3s\n",
            "[CV] END .....................C=100, gamma=scale, kernel=rbf; total time=   8.2s\n",
            "[CV] END .....................C=100, gamma=scale, kernel=rbf; total time=   9.3s\n",
            "[CV] END ......................C=100, gamma=auto, kernel=rbf; total time=   8.4s\n",
            "[CV] END ......................C=100, gamma=auto, kernel=rbf; total time=   9.1s\n",
            "[CV] END .....................C=100, gamma=scale, kernel=rbf; total time=   9.3s\n",
            "[CV] END .....................C=100, gamma=scale, kernel=rbf; total time=  11.2s\n",
            "[CV] END .......................C=100, gamma=0.1, kernel=rbf; total time=   8.7s\n",
            "[CV] END ......................C=100, gamma=0.01, kernel=rbf; total time=   6.2s\n",
            "[CV] END ......................C=100, gamma=auto, kernel=rbf; total time=   9.8s\n",
            "[CV] END .......................C=100, gamma=0.1, kernel=rbf; total time=  10.4s\n",
            "[CV] END ......................C=100, gamma=auto, kernel=rbf; total time=  12.1s\n",
            "[CV] END .......................C=100, gamma=0.1, kernel=rbf; total time=  10.5s\n",
            "[CV] END .......................C=100, gamma=0.1, kernel=rbf; total time=  10.4s\n",
            "[CV] END .......................C=100, gamma=0.1, kernel=rbf; total time=  11.4s\n",
            "[CV] END .....................C=100, gamma=0.001, kernel=rbf; total time=   2.7s\n",
            "[CV] END .....................C=100, gamma=0.001, kernel=rbf; total time=   2.8s\n",
            "[CV] END .....................C=100, gamma=0.001, kernel=rbf; total time=   2.4s\n",
            "[CV] END ......................C=100, gamma=0.01, kernel=rbf; total time=   4.7s\n",
            "[CV] END ......................C=100, gamma=0.01, kernel=rbf; total time=   4.1s\n",
            "[CV] END .....................C=100, gamma=0.001, kernel=rbf; total time=   2.1s\n",
            "[CV] END ......................C=100, gamma=0.01, kernel=rbf; total time=   6.0s\n",
            "[CV] END ....................C=100, gamma=0.0001, kernel=rbf; total time=   1.6s\n",
            "[CV] END ....................C=100, gamma=0.0001, kernel=rbf; total time=   1.6s\n",
            "[CV] END ....................C=100, gamma=0.0001, kernel=rbf; total time=   1.7s\n",
            "[CV] END .....................C=100, gamma=0.001, kernel=rbf; total time=   2.6s\n",
            "[CV] END ....................C=100, gamma=0.0001, kernel=rbf; total time=   1.8s\n",
            "[CV] END ....................C=100, gamma=0.0001, kernel=rbf; total time=   1.7s\n",
            "[CV] END ......................C=100, gamma=0.01, kernel=rbf; total time=   7.5s\n",
            "Best parameters: {'C': 0.1, 'gamma': 'scale', 'kernel': 'rbf'}\n",
            "Best cross-validation score: 0.78\n",
            "Test set accuracy: 0.76\n"
          ]
        }
      ],
      "source": [
        "import numpy as np\n",
        "from sklearn.model_selection import GridSearchCV, train_test_split\n",
        "from sklearn.svm import SVC\n",
        "from sklearn.preprocessing import StandardScaler\n",
        "\n",
        "X = df_scaled.drop('label', axis=1)\n",
        "y = df_scaled['label']\n",
        "\n",
        "# Splitting the data into training and testing sets\n",
        "X_train, X_test, y_train, y_test = train_test_split(X, y, test_size=0.2, random_state=42)\n",
        "\n",
        "param_grid = {\n",
        "    'C': [0.1, 1, 10, 100],\n",
        "    'gamma': ['scale', 'auto', 0.1, 0.01, 0.001, 0.0001],\n",
        "    'kernel': ['rbf']\n",
        "}\n",
        "\n",
        "svc = SVC(probability=True)\n",
        "\n",
        "grid_search = GridSearchCV(estimator=svc, param_grid=param_grid, cv=5, verbose=2, n_jobs=-1)\n",
        "\n",
        "grid_search.fit(X_train, y_train)\n",
        "\n",
        "print(\"Best parameters:\", grid_search.best_params_)\n",
        "print(\"Best cross-validation score: {:.2f}\".format(grid_search.best_score_))\n",
        "\n",
        "model = grid_search.best_estimator_\n",
        "y_pred = model.predict(X_test)\n",
        "test_accuracy = model.score(X_test, y_test)\n",
        "print(\"Test set accuracy: {:.2f}\".format(test_accuracy))\n"
      ]
    },
    {
      "cell_type": "code",
      "execution_count": null,
      "id": "49387f0b",
      "metadata": {
        "colab": {
          "base_uri": "https://localhost:8080/",
          "height": 423
        },
        "id": "49387f0b",
        "outputId": "30cdb8ca-93ca-4dba-9ccd-ab7620b1837c"
      },
      "outputs": [
        {
          "data": {
            "text/html": [
              "<div>\n",
              "<style scoped>\n",
              "    .dataframe tbody tr th:only-of-type {\n",
              "        vertical-align: middle;\n",
              "    }\n",
              "\n",
              "    .dataframe tbody tr th {\n",
              "        vertical-align: top;\n",
              "    }\n",
              "\n",
              "    .dataframe thead th {\n",
              "        text-align: right;\n",
              "    }\n",
              "</style>\n",
              "<table border=\"1\" class=\"dataframe\">\n",
              "  <thead>\n",
              "    <tr style=\"text-align: right;\">\n",
              "      <th></th>\n",
              "      <th>E_alpha</th>\n",
              "      <th>E_beta</th>\n",
              "      <th>E_theta</th>\n",
              "      <th>E_delta</th>\n",
              "      <th>alpha_beta_ratio</th>\n",
              "      <th>peak_frequency</th>\n",
              "      <th>spectral_centroid</th>\n",
              "      <th>spectral_slope</th>\n",
              "    </tr>\n",
              "  </thead>\n",
              "  <tbody>\n",
              "    <tr>\n",
              "      <th>2313</th>\n",
              "      <td>-0.063068</td>\n",
              "      <td>-0.071143</td>\n",
              "      <td>-0.085105</td>\n",
              "      <td>-0.152272</td>\n",
              "      <td>-0.223569</td>\n",
              "      <td>-0.397339</td>\n",
              "      <td>1.228444</td>\n",
              "      <td>-0.198129</td>\n",
              "    </tr>\n",
              "    <tr>\n",
              "      <th>2089</th>\n",
              "      <td>-0.076364</td>\n",
              "      <td>-0.061994</td>\n",
              "      <td>-0.081420</td>\n",
              "      <td>0.022084</td>\n",
              "      <td>-0.858890</td>\n",
              "      <td>-0.397339</td>\n",
              "      <td>-1.175050</td>\n",
              "      <td>1.303166</td>\n",
              "    </tr>\n",
              "    <tr>\n",
              "      <th>761</th>\n",
              "      <td>-0.072571</td>\n",
              "      <td>-0.086964</td>\n",
              "      <td>-0.090873</td>\n",
              "      <td>-0.146034</td>\n",
              "      <td>-0.300603</td>\n",
              "      <td>-0.397339</td>\n",
              "      <td>-0.333358</td>\n",
              "      <td>-0.042650</td>\n",
              "    </tr>\n",
              "    <tr>\n",
              "      <th>829</th>\n",
              "      <td>-0.075523</td>\n",
              "      <td>-0.086949</td>\n",
              "      <td>-0.092001</td>\n",
              "      <td>-0.152554</td>\n",
              "      <td>-0.639105</td>\n",
              "      <td>-0.397339</td>\n",
              "      <td>0.510616</td>\n",
              "      <td>0.223050</td>\n",
              "    </tr>\n",
              "    <tr>\n",
              "      <th>1961</th>\n",
              "      <td>-0.060570</td>\n",
              "      <td>-0.091612</td>\n",
              "      <td>-0.089324</td>\n",
              "      <td>-0.101356</td>\n",
              "      <td>2.581621</td>\n",
              "      <td>-0.397339</td>\n",
              "      <td>-1.071974</td>\n",
              "      <td>0.153408</td>\n",
              "    </tr>\n",
              "    <tr>\n",
              "      <th>...</th>\n",
              "      <td>...</td>\n",
              "      <td>...</td>\n",
              "      <td>...</td>\n",
              "      <td>...</td>\n",
              "      <td>...</td>\n",
              "      <td>...</td>\n",
              "      <td>...</td>\n",
              "      <td>...</td>\n",
              "    </tr>\n",
              "    <tr>\n",
              "      <th>49</th>\n",
              "      <td>-0.073503</td>\n",
              "      <td>-0.094311</td>\n",
              "      <td>-0.093066</td>\n",
              "      <td>-0.150300</td>\n",
              "      <td>0.675623</td>\n",
              "      <td>-0.397339</td>\n",
              "      <td>-0.450070</td>\n",
              "      <td>-0.406904</td>\n",
              "    </tr>\n",
              "    <tr>\n",
              "      <th>1505</th>\n",
              "      <td>-0.066707</td>\n",
              "      <td>-0.065773</td>\n",
              "      <td>-0.071275</td>\n",
              "      <td>-0.126482</td>\n",
              "      <td>-0.479769</td>\n",
              "      <td>-0.397339</td>\n",
              "      <td>0.037995</td>\n",
              "      <td>-0.412826</td>\n",
              "    </tr>\n",
              "    <tr>\n",
              "      <th>1846</th>\n",
              "      <td>-0.046848</td>\n",
              "      <td>0.023803</td>\n",
              "      <td>-0.050580</td>\n",
              "      <td>-0.007014</td>\n",
              "      <td>-0.596908</td>\n",
              "      <td>-0.397339</td>\n",
              "      <td>-0.135435</td>\n",
              "      <td>-1.445897</td>\n",
              "    </tr>\n",
              "    <tr>\n",
              "      <th>48</th>\n",
              "      <td>-0.074203</td>\n",
              "      <td>-0.090401</td>\n",
              "      <td>-0.093561</td>\n",
              "      <td>-0.146091</td>\n",
              "      <td>-0.288586</td>\n",
              "      <td>-0.397339</td>\n",
              "      <td>-0.291921</td>\n",
              "      <td>0.826461</td>\n",
              "    </tr>\n",
              "    <tr>\n",
              "      <th>772</th>\n",
              "      <td>-0.072391</td>\n",
              "      <td>-0.089560</td>\n",
              "      <td>-0.091907</td>\n",
              "      <td>-0.139537</td>\n",
              "      <td>-0.079299</td>\n",
              "      <td>-0.397339</td>\n",
              "      <td>-0.750272</td>\n",
              "      <td>0.439959</td>\n",
              "    </tr>\n",
              "  </tbody>\n",
              "</table>\n",
              "<p>519 rows × 8 columns</p>\n",
              "</div>"
            ],
            "text/plain": [
              "       E_alpha    E_beta   E_theta   E_delta  alpha_beta_ratio  \\\n",
              "2313 -0.063068 -0.071143 -0.085105 -0.152272         -0.223569   \n",
              "2089 -0.076364 -0.061994 -0.081420  0.022084         -0.858890   \n",
              "761  -0.072571 -0.086964 -0.090873 -0.146034         -0.300603   \n",
              "829  -0.075523 -0.086949 -0.092001 -0.152554         -0.639105   \n",
              "1961 -0.060570 -0.091612 -0.089324 -0.101356          2.581621   \n",
              "...        ...       ...       ...       ...               ...   \n",
              "49   -0.073503 -0.094311 -0.093066 -0.150300          0.675623   \n",
              "1505 -0.066707 -0.065773 -0.071275 -0.126482         -0.479769   \n",
              "1846 -0.046848  0.023803 -0.050580 -0.007014         -0.596908   \n",
              "48   -0.074203 -0.090401 -0.093561 -0.146091         -0.288586   \n",
              "772  -0.072391 -0.089560 -0.091907 -0.139537         -0.079299   \n",
              "\n",
              "      peak_frequency  spectral_centroid  spectral_slope  \n",
              "2313       -0.397339           1.228444       -0.198129  \n",
              "2089       -0.397339          -1.175050        1.303166  \n",
              "761        -0.397339          -0.333358       -0.042650  \n",
              "829        -0.397339           0.510616        0.223050  \n",
              "1961       -0.397339          -1.071974        0.153408  \n",
              "...              ...                ...             ...  \n",
              "49         -0.397339          -0.450070       -0.406904  \n",
              "1505       -0.397339           0.037995       -0.412826  \n",
              "1846       -0.397339          -0.135435       -1.445897  \n",
              "48         -0.397339          -0.291921        0.826461  \n",
              "772        -0.397339          -0.750272        0.439959  \n",
              "\n",
              "[519 rows x 8 columns]"
            ]
          },
          "execution_count": 132,
          "metadata": {},
          "output_type": "execute_result"
        }
      ],
      "source": [
        "X_test"
      ]
    },
    {
      "cell_type": "code",
      "execution_count": null,
      "id": "dElUGlqj8KFA",
      "metadata": {
        "id": "dElUGlqj8KFA"
      },
      "outputs": [],
      "source": [
        "import pickle\n",
        "\n",
        "model_filename = 'model.pkl'\n",
        "\n",
        "with open(model_filename, 'wb') as file:\n",
        "    pickle.dump(model, file)\n"
      ]
    },
    {
      "cell_type": "code",
      "execution_count": null,
      "id": "ulF4BYUK9Uv-",
      "metadata": {
        "id": "ulF4BYUK9Uv-"
      },
      "outputs": [],
      "source": [
        "import pickle\n",
        "\n",
        "scaler_filename = 'scaler.pkl'\n",
        "\n",
        "with open(scaler_filename, 'wb') as file:\n",
        "    pickle.dump(scaler, file)\n"
      ]
    },
    {
      "cell_type": "code",
      "execution_count": null,
      "id": "8e0fe187",
      "metadata": {
        "id": "8e0fe187"
      },
      "outputs": [],
      "source": [
        "\n"
      ]
    },
    {
      "cell_type": "code",
      "execution_count": null,
      "id": "646a4d72",
      "metadata": {
        "colab": {
          "base_uri": "https://localhost:8080/"
        },
        "id": "646a4d72",
        "outputId": "7d2bc349-e552-4d01-c288-aec3460125e8"
      },
      "outputs": [
        {
          "name": "stdout",
          "output_type": "stream",
          "text": [
            "Class Probabilities: [0.77826761 0.77879426 0.7788289  0.77821384 0.78715395 0.77839177\n",
            " 0.77878634 0.77860273 0.77859824 0.77851055 0.77723436 0.77836104\n",
            " 0.78057523 0.77851003 0.77923264 0.77835321 0.77852225 0.77904837\n",
            " 0.77855942 0.77978839 0.77854821 0.78015443 0.77842977 0.77863445\n",
            " 0.77843379 0.77766512 0.76370249 0.7782453  0.77857039 0.77852576\n",
            " 0.77825475 0.77841151 0.77862095 0.77829292 0.77855212 0.76793817\n",
            " 0.77832539 0.78012021 0.77836639 0.77882878 0.77817578 0.77845437\n",
            " 0.78070133 0.77856283 0.77862365 0.77895767 0.77806775 0.77820777\n",
            " 0.77842092 0.77823454 0.77827773 0.77808813 0.77852795 0.77846717\n",
            " 0.77878754 0.77851006 0.76721563 0.77793331 0.77835288 0.77818332\n",
            " 0.77854974 0.77852941 0.77845589 0.77917212 0.77812695 0.77808928\n",
            " 0.78078786 0.77857767 0.77861849 0.77853222 0.77858736 0.7781819\n",
            " 0.77866057 0.77857328 0.77872752 0.7788112  0.77863236 0.77835285\n",
            " 0.77851925 0.77846255 0.77821622 0.77884284 0.77977221 0.77912159\n",
            " 0.77834939 0.77902708 0.77835866 0.78105632 0.7783372  0.77791017\n",
            " 0.77858439 0.77498686 0.78112251 0.77881141 0.77814479 0.78065443\n",
            " 0.77867131 0.77880225 0.77783808 0.77851147 0.77925088 0.77809359\n",
            " 0.77985779 0.78184168 0.77844609 0.77838369 0.78053606 0.77868704\n",
            " 0.77869322 0.77878969 0.77320876 0.77968122 0.77066509 0.78032666\n",
            " 0.77896792 0.77806023 0.77855563 0.77648051 0.77942141 0.77877395\n",
            " 0.78008817 0.77822431 0.77817542 0.77671072 0.77822654 0.76147498\n",
            " 0.78096017 0.78033035 0.77942215 0.77819711 0.77845619 0.77830004\n",
            " 0.77873388 0.77824597 0.7785576  0.77868276 0.77868405 0.77845241\n",
            " 0.77136125 0.7779265  0.77840934 0.77956973 0.77841958 0.77818537\n",
            " 0.77808488 0.77967375 0.78147489 0.77871868 0.77922301 0.7822084\n",
            " 0.77873171 0.7839576  0.77857923 0.77874467 0.77874268 0.77879136\n",
            " 0.78379365 0.77842761 0.77852457 0.75163669 0.77840509 0.77839337\n",
            " 0.77959636 0.77346284 0.78336425 0.7790507  0.7870164  0.77870435\n",
            " 0.778538   0.77848746 0.781849   0.77826471 0.77830915 0.77895524\n",
            " 0.78581102 0.77867506 0.77856561 0.77365992 0.77935065 0.76337141\n",
            " 0.77833694 0.77847291 0.77836245 0.74416705 0.77849855 0.77842091\n",
            " 0.7781663  0.77829182 0.77843683 0.77841377 0.77828078 0.77832621\n",
            " 0.77890569 0.77844167 0.77930566 0.77954323 0.7536724  0.77823653\n",
            " 0.77821803 0.77713539 0.78012021 0.77875155 0.77858249 0.77896457\n",
            " 0.77857818 0.77854928 0.77840389 0.77869744 0.77866294 0.7780781\n",
            " 0.77915674 0.77838529 0.77864234 0.77520507 0.77859475 0.77751555\n",
            " 0.77882688 0.77820007 0.77811295 0.7785773  0.77862359 0.75622212\n",
            " 0.78058042 0.77825451 0.77853785 0.77841175 0.77810341 0.77854769\n",
            " 0.77622269 0.77876252 0.77851526 0.77847029 0.7788319  0.77867934\n",
            " 0.778812   0.77867282 0.77836466 0.7784106  0.77871265 0.77754373\n",
            " 0.77785346 0.77878223 0.77876852 0.77824063 0.77392985 0.77834993\n",
            " 0.77876891 0.77860921 0.77920937 0.77945302 0.77832045 0.77916359\n",
            " 0.7779751  0.7792517  0.7792181  0.77837685 0.77957972 0.78015193\n",
            " 0.77489556 0.77841624 0.77866607 0.77831426 0.77833882 0.77854838\n",
            " 0.77959539 0.77871764 0.77865784 0.77815382 0.7813071  0.77871059\n",
            " 0.77856797 0.77863562 0.77793907 0.77855986 0.77858836 0.77839942\n",
            " 0.780521   0.7787934  0.77867626 0.77836164 0.78126083 0.78201799\n",
            " 0.77888621 0.76408181 0.77832175 0.77847285 0.77867158 0.77510095\n",
            " 0.78097317 0.77851186 0.77856258 0.77953319 0.77876713 0.77853179\n",
            " 0.77878168 0.77711536 0.77917389 0.77823695 0.77817805 0.77859489\n",
            " 0.77874541 0.77916572 0.77882615 0.77858535 0.78165061 0.77873827\n",
            " 0.77868163 0.77836306 0.77871523 0.78297583 0.77878038 0.77841832\n",
            " 0.77832417 0.77862433 0.7775537  0.77867393 0.78177523 0.77896149\n",
            " 0.78184581 0.77863563 0.78034285 0.77739357 0.77886617 0.77879182\n",
            " 0.77845775 0.78152963 0.78049112 0.77841075 0.77906537 0.77870455\n",
            " 0.78042776 0.77816336 0.77831327 0.7809182  0.7816627  0.78157672\n",
            " 0.77830875 0.78165003 0.77822813 0.7787971  0.77906217 0.77810979\n",
            " 0.77823456 0.77871104 0.7783569  0.77882842 0.78003354 0.77874661\n",
            " 0.77888652 0.77841577 0.77831607 0.77876273 0.7791458  0.77869626\n",
            " 0.77968266 0.77929437 0.77816465 0.77866353 0.77819803 0.77766423\n",
            " 0.77858669 0.77835003 0.7785887  0.77866235 0.77821189 0.77837935\n",
            " 0.77888407 0.77840899 0.77828312 0.77865491 0.77853388 0.78031852\n",
            " 0.77847152 0.7786852  0.77869339 0.77834577 0.77847246 0.77838733\n",
            " 0.77944375 0.78021384 0.77831674 0.77844259 0.77854003 0.78609124\n",
            " 0.77964315 0.77365895 0.77904184 0.77834768 0.77840441 0.77949303\n",
            " 0.77873562 0.77807843 0.77867695 0.77848119 0.77804023 0.77846736\n",
            " 0.77889492 0.77824462 0.77854877 0.77856695 0.77888608 0.7780697\n",
            " 0.77820553 0.77974552 0.77822059 0.77843531 0.77882568 0.77847809\n",
            " 0.77830146 0.77852746 0.78173066 0.77841455 0.77869655 0.77822821\n",
            " 0.77869385 0.78178186 0.77873226 0.77822345 0.77871782 0.77870358\n",
            " 0.78004299 0.77870018 0.77855089 0.7789837  0.77881203 0.77876122\n",
            " 0.77829594 0.7800729  0.77856957 0.77843256 0.78310818 0.77868277\n",
            " 0.77868213 0.77859411 0.7781739  0.77852995 0.77809302 0.78163835\n",
            " 0.77860995 0.77846225 0.78469106 0.77867253 0.78568995 0.78402671\n",
            " 0.77848606 0.77863658 0.77876886 0.77574948 0.77737861 0.77877108\n",
            " 0.77871773 0.77444205 0.77866977 0.7729404  0.77897321 0.7838831\n",
            " 0.77913912 0.77910113 0.77862672 0.77772979 0.7787368  0.77825806\n",
            " 0.77872787 0.7794506  0.77844451 0.78393362 0.77873211 0.77853154\n",
            " 0.7777819  0.77274218 0.77798275 0.77882836 0.77840683 0.77852941\n",
            " 0.78140822 0.77970357 0.77867292 0.77834985 0.77846253 0.77846561\n",
            " 0.77879481 0.77824047 0.78062904 0.77962091 0.77816991 0.77849571\n",
            " 0.77838634 0.77849594 0.77826901 0.78106563 0.77840294 0.7799675\n",
            " 0.77849928 0.77870788 0.77833985 0.77829981 0.7786035  0.7782998\n",
            " 0.78535078 0.77823805 0.78173357 0.79611852 0.77812189 0.78008492\n",
            " 0.77871035 0.7783421  0.77818646 0.77852109 0.784401   0.77883957\n",
            " 0.77863517 0.77879779 0.77879937 0.78187426 0.77856911 0.77895751\n",
            " 0.7782498  0.77859877 0.77868396]\n"
          ]
        }
      ],
      "source": [
        "probabilities = model.predict_proba(X_test)[:,1]\n",
        "print(f\"Class Probabilities: {probabilities}\")"
      ]
    },
    {
      "cell_type": "code",
      "execution_count": null,
      "id": "15c00924",
      "metadata": {
        "colab": {
          "base_uri": "https://localhost:8080/",
          "height": 430
        },
        "id": "15c00924",
        "outputId": "caf30bd5-17f9-41fa-cf1d-d52021a95c45"
      },
      "outputs": [
        {
          "data": {
            "image/png": "[encoded data removed]",
            "text/plain": [
              "<Figure size 640x480 with 1 Axes>"
            ]
          },
          "metadata": {},
          "output_type": "display_data"
        }
      ],
      "source": [
        "from sklearn.calibration import calibration_curve\n",
        "fop, mpv = calibration_curve(y_test, probabilities, n_bins=10)\n",
        "plt.plot([0, 1], [0, 1], linestyle='--')\n",
        "plt.plot(mpv, fop, marker='.')\n",
        "plt.show()"
      ]
    },
    {
      "cell_type": "code",
      "execution_count": null,
      "id": "2e55992b",
      "metadata": {
        "id": "2e55992b"
      },
      "outputs": [],
      "source": [
        "from sklearn.calibration import CalibratedClassifierCV\n",
        "\n",
        "calibrator = CalibratedClassifierCV(model, cv=3)\n",
        "calibrator.fit(X_train,y_train)\n",
        "yhat = calibrator.predict(X_test)"
      ]
    },
    {
      "cell_type": "code",
      "execution_count": null,
      "id": "c301a7cf",
      "metadata": {
        "colab": {
          "base_uri": "https://localhost:8080/",
          "height": 430
        },
        "id": "c301a7cf",
        "outputId": "e67b56a6-372a-490d-db4e-1d63e3ae8021"
      },
      "outputs": [
        {
          "data": {
            "image/png": "[encoded data removed]",
            "text/plain": [
              "<Figure size 640x480 with 1 Axes>"
            ]
          },
          "metadata": {},
          "output_type": "display_data"
        }
      ],
      "source": [
        "fop, mpv = calibration_curve(y_test, yhat, n_bins=10)\n",
        "plt.plot([0, 1], [0, 1], linestyle='--')\n",
        "plt.plot(mpv, fop, marker='.')\n",
        "plt.show()"
      ]
    },
    {
      "cell_type": "code",
      "execution_count": null,
      "id": "75a4a8f3",
      "metadata": {
        "colab": {
          "base_uri": "https://localhost:8080/"
        },
        "id": "75a4a8f3",
        "outputId": "519eef7e-a2c9-4938-c08e-793cba24fa7b"
      },
      "outputs": [
        {
          "name": "stdout",
          "output_type": "stream",
          "text": [
            "Classification Accuracy: 0.7591522157996147\n"
          ]
        }
      ],
      "source": [
        "accuracy = accuracy_score(y_test, yhat)\n",
        "print(f\"Classification Accuracy: {accuracy}\")"
      ]
    },
    {
      "cell_type": "code",
      "execution_count": null,
      "id": "26febea8",
      "metadata": {
        "id": "26febea8"
      },
      "outputs": [],
      "source": []
    },
    {
      "cell_type": "code",
      "execution_count": null,
      "id": "SOQ4WoGJhFhq",
      "metadata": {
        "colab": {
          "base_uri": "https://localhost:8080/"
        },
        "id": "SOQ4WoGJhFhq",
        "outputId": "bf34570c-1180-48ae-d81f-8a9e1177ddb3"
      },
      "outputs": [
        {
          "name": "stderr",
          "output_type": "stream",
          "text": [
            "/Library/Frameworks/Python.framework/Versions/3.11/lib/python3.11/site-packages/sklearn/base.py:493: UserWarning: X does not have valid feature names, but SVC was fitted with feature names\n",
            "  warnings.warn(\n"
          ]
        },
        {
          "name": "stdout",
          "output_type": "stream",
          "text": [
            "Accuracy: 0.7739\n",
            "Precision: 0.7739\n",
            "Recall: 1.0000\n",
            "F1 Score: 0.8726\n",
            "Confusion Matrix:\n",
            "[[   0  586]\n",
            " [   0 2006]]\n",
            "Classification Report:\n",
            "              precision    recall  f1-score   support\n",
            "\n",
            "         0.0       0.00      0.00      0.00       586\n",
            "         1.0       0.77      1.00      0.87      2006\n",
            "\n",
            "    accuracy                           0.77      2592\n",
            "   macro avg       0.39      0.50      0.44      2592\n",
            "weighted avg       0.60      0.77      0.68      2592\n",
            "\n"
          ]
        },
        {
          "name": "stderr",
          "output_type": "stream",
          "text": [
            "/Library/Frameworks/Python.framework/Versions/3.11/lib/python3.11/site-packages/sklearn/metrics/_classification.py:1531: UndefinedMetricWarning: Precision is ill-defined and being set to 0.0 in labels with no predicted samples. Use `zero_division` parameter to control this behavior.\n",
            "  _warn_prf(average, modifier, f\"{metric.capitalize()} is\", len(result))\n",
            "/Library/Frameworks/Python.framework/Versions/3.11/lib/python3.11/site-packages/sklearn/metrics/_classification.py:1531: UndefinedMetricWarning: Precision is ill-defined and being set to 0.0 in labels with no predicted samples. Use `zero_division` parameter to control this behavior.\n",
            "  _warn_prf(average, modifier, f\"{metric.capitalize()} is\", len(result))\n",
            "/Library/Frameworks/Python.framework/Versions/3.11/lib/python3.11/site-packages/sklearn/metrics/_classification.py:1531: UndefinedMetricWarning: Precision is ill-defined and being set to 0.0 in labels with no predicted samples. Use `zero_division` parameter to control this behavior.\n",
            "  _warn_prf(average, modifier, f\"{metric.capitalize()} is\", len(result))\n"
          ]
        }
      ],
      "source": [
        "from sklearn.metrics import accuracy_score, precision_score, recall_score, f1_score, confusion_matrix, classification_report\n",
        "\n",
        "y_true = df_scaled['label']\n",
        "y_pred = model.predict(X_scaled)\n",
        "\n",
        "# Accuracy\n",
        "accuracy = accuracy_score(y_true, y_pred)\n",
        "print(f'Accuracy: {accuracy:.4f}')\n",
        "\n",
        "# Precision\n",
        "precision = precision_score(y_true, y_pred)\n",
        "print(f'Precision: {precision:.4f}')\n",
        "\n",
        "# Recall\n",
        "recall = recall_score(y_true, y_pred)\n",
        "print(f'Recall: {recall:.4f}')\n",
        "\n",
        "# F1 Score\n",
        "f1 = f1_score(y_true, y_pred)\n",
        "print(f'F1 Score: {f1:.4f}')\n",
        "\n",
        "# Confusion Matrix\n",
        "conf_matrix = confusion_matrix(y_true, y_pred)\n",
        "print('Confusion Matrix:')\n",
        "print(conf_matrix)\n",
        "\n",
        "# Classification Report\n",
        "class_report = classification_report(y_true, y_pred)\n",
        "print('Classification Report:')\n",
        "print(class_report)"
      ]
    }
  ],
  "metadata": {
    "colab": {
      "provenance": []
    },
    "kernelspec": {
      "display_name": "Python 3 (ipykernel)",
      "language": "python",
      "name": "python3"
    },
    "language_info": {
      "codemirror_mode": {
        "name": "ipython",
        "version": 3
      },
      "file_extension": ".py",
      "mimetype": "text/x-python",
      "name": "python",
      "nbconvert_exporter": "python",
      "pygments_lexer": "ipython3",
      "version": "3.11.5"
    }
  },
  "nbformat": 4,
  "nbformat_minor": 5
}
